{
 "cells": [
  {
   "cell_type": "code",
   "execution_count": 8,
   "metadata": {},
   "outputs": [
    {
     "name": "stdout",
     "output_type": "stream",
     "text": [
      "False\n",
      "2023-07-15\n"
     ]
    }
   ],
   "source": [
    "from datetime import date\n",
    "\n",
    "class Dummy:\n",
    "    @staticmethod\n",
    "    def is_studyday(day):\n",
    "        if day.weekday() == 5:\n",
    "          return False\n",
    "        return True\n",
    "\n",
    "\n",
    "\n",
    "\n",
    "today = date.today()\n",
    "print(Dummy.is_studyday(today))\n",
    "print(today)"
   ]
  },
  {
   "cell_type": "code",
   "execution_count": 5,
   "metadata": {},
   "outputs": [
    {
     "name": "stdout",
     "output_type": "stream",
     "text": [
      "False\n",
      "2023-07-15\n"
     ]
    }
   ],
   "source": [
    "from datetime import date\n",
    "\n",
    "class Dummy:\n",
    "    @staticmethod\n",
    "    def is_studyday(day):\n",
    "        if day.weekday() == 5:  # Saturday is represented by 5\n",
    "            return False\n",
    "        return True\n",
    "\n",
    "today = date.today()\n",
    "print(Dummy.is_studyday(today))\n",
    "print(today)"
   ]
  },
  {
   "cell_type": "code",
   "execution_count": null,
   "metadata": {},
   "outputs": [],
   "source": [
    "from datetime import date\n",
    "\n",
    "class Dummy:\n",
    "    @staticmethod\n",
    "    def is_studyday(day):\n",
    "\n",
    "        y = day.weekday()\n",
    "        \n",
    "        if y == 4:  \n",
    "            return False\n",
    "        return True\n",
    "\n",
    "x = Dummy()\n",
    "today = date.today()\n",
    "print(x.is_studyday(today))"
   ]
  }
 ],
 "metadata": {
  "kernelspec": {
   "display_name": "Python 3",
   "language": "python",
   "name": "python3"
  },
  "language_info": {
   "codemirror_mode": {
    "name": "ipython",
    "version": 3
   },
   "file_extension": ".py",
   "mimetype": "text/x-python",
   "name": "python",
   "nbconvert_exporter": "python",
   "pygments_lexer": "ipython3",
   "version": "3.11.3"
  },
  "orig_nbformat": 4
 },
 "nbformat": 4,
 "nbformat_minor": 2
}
