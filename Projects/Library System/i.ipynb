{
 "cells": [
  {
   "cell_type": "code",
   "execution_count": 23,
   "metadata": {},
   "outputs": [
    {
     "name": "stdout",
     "output_type": "stream",
     "text": [
      "Start\n",
      "Fuji Apple 0\n",
      "End\n",
      "Start\n",
      "End\n",
      "5\n"
     ]
    }
   ],
   "source": [
    "def f1(func):\n",
    "    def w(*args):\n",
    "        print('Start')\n",
    "        val = func(*args)\n",
    "\n",
    "        print('End')\n",
    "        return val\n",
    "    return w\n",
    "\n",
    "@f1 #decorator\n",
    "def f(r, a = 0):\n",
    "    print(r, a)\n",
    "\n",
    "f('Fuji Apple')\n",
    "##Alternative to decorator.\n",
    "# x = f1(f)\n",
    "# x()\n",
    "\n",
    "@f1\n",
    "def add(x, y):\n",
    "    return x + y\n",
    "\n",
    "print(add(2, 3))\n"
   ]
  },
  {
   "cell_type": "code",
   "execution_count": 30,
   "metadata": {},
   "outputs": [
    {
     "name": "stdout",
     "output_type": "stream",
     "text": [
      "Hero ki kya baat hai\n",
      "Maa durga uske sath hai\n",
      "Dushmano sab khabardar\n",
      "Golu babbu uske yrr\n"
     ]
    }
   ],
   "source": [
    "def hero(func):\n",
    "    def wrap(*arg):\n",
    "        print('Hero ki kya baat hai')\n",
    "        func(*arg)\n",
    "        print('Dushmano sab khabardar')\n",
    "        print('Golu babbu uske yrr')\n",
    "    return wrap\n",
    "@hero\n",
    "def herohero(arg):\n",
    "    print(arg)\n",
    "\n",
    "herohero('Maa durga uske sath hai')\n"
   ]
  },
  {
   "cell_type": "code",
   "execution_count": null,
   "metadata": {},
   "outputs": [],
   "source": []
  }
 ],
 "metadata": {
  "kernelspec": {
   "display_name": "Python 3",
   "language": "python",
   "name": "python3"
  },
  "language_info": {
   "codemirror_mode": {
    "name": "ipython",
    "version": 3
   },
   "file_extension": ".py",
   "mimetype": "text/x-python",
   "name": "python",
   "nbconvert_exporter": "python",
   "pygments_lexer": "ipython3",
   "version": "3.11.1"
  },
  "orig_nbformat": 4
 },
 "nbformat": 4,
 "nbformat_minor": 2
}
